{
 "cells": [
  {
   "cell_type": "code",
   "id": "initial_id",
   "metadata": {
    "collapsed": true,
    "ExecuteTime": {
     "end_time": "2025-10-04T04:15:52.926250Z",
     "start_time": "2025-10-04T04:15:46.260593Z"
    }
   },
   "source": [
    "import pickle\n",
    "import pandas as pd\n",
    "import numpy as np\n",
    "import matplotlib.pyplot as plt\n",
    "import seaborn as sns\n",
    "from sklearn.model_selection import train_test_split\n",
    "from sklearn.preprocessing import StandardScaler\n",
    "from sklearn.linear_model import LogisticRegression\n",
    "from sklearn.metrics import classification_report, confusion_matrix, accuracy_score, f1_score, precision_score, recall_score\n",
    "from imblearn.over_sampling import SMOTE\n",
    "from collections import Counter\n",
    "import warnings\n",
    "warnings.filterwarnings('ignore')\n",
    "\n",
    "df = pd.read_csv(\"../preprocessed_stroke_data.csv\")\n",
    "\n",
    "print(\"Dataset Information:\")\n",
    "print(f\"Shape: {df.shape}\")\n",
    "print(f\"Target distribution: {df['Stroke'].value_counts()}\")\n",
    "print(f\"Target distribution (%): {df['Stroke'].value_counts(normalize=True) * 100}\")\n",
    "\n",
    "X = df.drop(\"Stroke\", axis=1)\n",
    "y = df[\"Stroke\"]\n",
    "\n",
    "X_train, X_test, y_train, y_test = train_test_split(X, y, test_size=0.2, random_state=42, stratify=y)\n",
    "\n",
    "print(f\"\\nTrain set target distribution: {y_train.value_counts()}\")\n",
    "print(f\"Test set target distribution: {y_test.value_counts()}\")\n",
    "\n",
    "# Apply SMOTE\n",
    "smote = SMOTE(random_state=42)\n",
    "X_train_resampled, y_train_resampled = smote.fit_resample(X_train, y_train)\n",
    "\n",
    "print(f\"Before SMOTE: {Counter(y_train)}\")\n",
    "print(f\"After SMOTE: {Counter(y_train_resampled)}\")\n",
    "\n",
    "scaler = StandardScaler()\n",
    "X_train_scaled = scaler.fit_transform(X_train_resampled)\n",
    "X_test_scaled = scaler.transform(X_test)\n",
    "\n",
    "print(\"\\nTraining Logistic Regression model...\")\n",
    "model = LogisticRegression(max_iter=1000, random_state=42)\n",
    "model.fit(X_train_scaled, y_train_resampled)\n",
    "\n",
    "# Make predictions\n",
    "y_pred = model.predict(X_test_scaled)\n",
    "\n",
    "accuracy = accuracy_score(y_test, y_pred)\n",
    "precision = precision_score(y_test, y_pred)\n",
    "recall = recall_score(y_test, y_pred)\n",
    "f1 = f1_score(y_test, y_pred)\n",
    "\n",
    "print(f\"\\nLOGISTIC REGRESSION PERFORMANCE\")\n",
    "print(f\"Accuracy: {accuracy:.4f}\")\n",
    "print(f\"Precision: {precision:.4f}\")\n",
    "print(f\"Recall: {recall:.4f}\")\n",
    "print(f\"F1-Score: {f1:.4f}\")\n",
    "\n",
    "cm = confusion_matrix(y_test, y_pred)\n",
    "print(f\"\\nConfusion Matrix:\")\n",
    "print(cm)\n",
    "\n",
    "plt.figure(figsize=(8, 6))\n",
    "sns.heatmap(cm, annot=True, fmt='d', cmap='Blues', \n",
    "            xticklabels=['No Stroke', 'Stroke'], \n",
    "            yticklabels=['No Stroke', 'Stroke'])\n",
    "plt.title('Logistic Regression - Confusion Matrix')\n",
    "plt.ylabel('True Label')\n",
    "plt.xlabel('Predicted Label')\n",
    "plt.show()\n",
    "\n",
    "print(classification_report(y_test, y_pred, target_names=['No Stroke', 'Stroke']))\n",
    "\n",
    "model_package = {\n",
    "    'model': model,\n",
    "    'scaler': scaler,\n",
    "    'feature_names': X.columns.tolist(),\n",
    "    'accuracy': accuracy,\n",
    "    'precision': precision,\n",
    "    'recall': recall,\n",
    "    'f1_score': f1,\n",
    "    'smote_applied': True\n",
    "}\n",
    "\n",
    "with open(\"../models/logistic_regression.pkl\", \"wb\") as f:\n",
    "    pickle.dump(model_package, f)\n",
    "\n"
   ],
   "outputs": [
    {
     "name": "stdout",
     "output_type": "stream",
     "text": [
      "Dataset Information:\n",
      "Shape: (41000, 17)\n",
      "Target distribution: Stroke\n",
      "0    36849\n",
      "1     4151\n",
      "Name: count, dtype: int64\n",
      "Target distribution (%): Stroke\n",
      "0    89.87561\n",
      "1    10.12439\n",
      "Name: proportion, dtype: float64\n",
      "\n",
      "Train set target distribution: Stroke\n",
      "0    29479\n",
      "1     3321\n",
      "Name: count, dtype: int64\n",
      "Test set target distribution: Stroke\n",
      "0    7370\n",
      "1     830\n",
      "Name: count, dtype: int64\n",
      "Before SMOTE: Counter({0: 29479, 1: 3321})\n",
      "After SMOTE: Counter({0: 29479, 1: 29479})\n",
      "\n",
      "Training Logistic Regression model...\n",
      "\n",
      "LOGISTIC REGRESSION PERFORMANCE\n",
      "Accuracy: 0.6315\n",
      "Precision: 0.0997\n",
      "Recall: 0.3289\n",
      "F1-Score: 0.1530\n",
      "\n",
      "Confusion Matrix:\n",
      "[[4905 2465]\n",
      " [ 557  273]]\n"
     ]
    },
    {
     "data": {
      "text/plain": [
       "<Figure size 800x600 with 2 Axes>"
      ],
      "image/png": "[encoded data removed]"
     },
     "metadata": {},
     "output_type": "display_data",
     "jetTransient": {
      "display_id": null
     }
    },
    {
     "name": "stdout",
     "output_type": "stream",
     "text": [
      "              precision    recall  f1-score   support\n",
      "\n",
      "   No Stroke       0.90      0.67      0.76      7370\n",
      "      Stroke       0.10      0.33      0.15       830\n",
      "\n",
      "    accuracy                           0.63      8200\n",
      "   macro avg       0.50      0.50      0.46      8200\n",
      "weighted avg       0.82      0.63      0.70      8200\n",
      "\n"
     ]
    }
   ],
   "execution_count": 1
  }
 ],
 "metadata": {
  "kernelspec": {
   "display_name": "Python 3",
   "language": "python",
   "name": "python3"
  },
  "language_info": {
   "codemirror_mode": {
    "name": "ipython",
    "version": 2
   },
   "file_extension": ".py",
   "mimetype": "text/x-python",
   "name": "python",
   "nbconvert_exporter": "python",
   "pygments_lexer": "ipython2",
   "version": "2.7.6"
  }
 },
 "nbformat": 4,
 "nbformat_minor": 5
}
