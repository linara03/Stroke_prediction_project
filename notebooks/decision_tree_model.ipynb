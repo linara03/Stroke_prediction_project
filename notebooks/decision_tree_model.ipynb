{
 "cells": [
  {
   "cell_type": "code",
   "id": "initial_id",
   "metadata": {
    "collapsed": true,
    "ExecuteTime": {
     "end_time": "2025-09-30T04:40:21.893572Z",
     "start_time": "2025-09-30T04:40:21.890532Z"
    }
   },
   "source": [
    ""
   ],
   "outputs": [],
   "execution_count": null
  },
  {
   "metadata": {
    "ExecuteTime": {
     "end_time": "2025-09-30T04:40:23.159561Z",
     "start_time": "2025-09-30T04:40:21.902272Z"
    }
   },
   "cell_type": "code",
   "source": [
    "import pickle\n",
    "from sklearn.model_selection import train_test_split\n",
    "from sklearn.tree import DecisionTreeClassifier\n",
    "import pandas as pd\n",
    "\n",
    "# Load dataset\n",
    "df = pd.read_csv(r\"D:\\Stroke_prediction_project\\preprocessed_stroke_data.csv\")\n",
    "\n",
    "# Encode categorical variables (convert strings -> numbers)\n",
    "categorical_cols = df.select_dtypes(include=[\"object\"]).columns.tolist()\n",
    "df = pd.get_dummies(df, columns=categorical_cols, drop_first=True)\n",
    "\n",
    "# Features & target\n",
    "X = df.drop(\"Stroke\", axis=1)\n",
    "y = df[\"Stroke\"]\n",
    "\n",
    "# Train-test split\n",
    "X_train, X_test, y_train, y_test = train_test_split(\n",
    "    X, y, test_size=0.2, random_state=42\n",
    ")\n",
    "\n",
    "# Train decision tree (no scaling needed)\n",
    "model = DecisionTreeClassifier(random_state=42)\n",
    "model.fit(X_train, y_train)\n",
    "\n",
    "\n",
    "# Save model + feature columns\n",
    "with open(r\"D:\\Stroke_prediction_project\\models\\decision_tree.pkl\", \"wb\") as f:\n",
    "    pickle.dump((model, X.columns.tolist()), f)\n"
   ],
   "id": "d4fcd77683125d47",
   "outputs": [],
   "execution_count": 1
  }
 ],
 "metadata": {
  "kernelspec": {
   "display_name": "Python 3",
   "language": "python",
   "name": "python3"
  },
  "language_info": {
   "codemirror_mode": {
    "name": "ipython",
    "version": 2
   },
   "file_extension": ".py",
   "mimetype": "text/x-python",
   "name": "python",
   "nbconvert_exporter": "python",
   "pygments_lexer": "ipython2",
   "version": "2.7.6"
  }
 },
 "nbformat": 4,
 "nbformat_minor": 5
}
