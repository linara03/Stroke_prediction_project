{
 "cells": [
  {
   "cell_type": "code",
   "execution_count": null,
   "id": "initial_id",
   "metadata": {
    "collapsed": true
   },
   "outputs": [],
   "source": [
    ""
   ]
  },
  {
   "metadata": {
    "ExecuteTime": {
     "end_time": "2025-09-28T15:48:24.298459Z",
     "start_time": "2025-09-28T15:48:09.254918Z"
    }
   },
   "cell_type": "code",
   "source": [
    "import pickle\n",
    "import pandas as pd\n",
    "from sklearn.model_selection import train_test_split\n",
    "from sklearn.preprocessing import StandardScaler, LabelEncoder\n",
    "from sklearn.linear_model import LogisticRegression\n",
    "from sklearn.tree import DecisionTreeClassifier\n",
    "from sklearn.ensemble import RandomForestClassifier\n",
    "import xgboost as xgb\n",
    "\n",
    "# Load dataset\n",
    "df = pd.read_csv(r\"D:\\Stroke_prediction_project\\preprocessed_stroke_data.csv\")\n",
    "\n",
    "# Encode categorical variables\n",
    "encoders = {}\n",
    "for col in df.select_dtypes(include=\"object\").columns:\n",
    "    le = LabelEncoder()\n",
    "    df[col] = le.fit_transform(df[col])\n",
    "    encoders[col] = le\n",
    "\n",
    "X = df.drop(\"Stroke\", axis=1)\n",
    "y = df[\"Stroke\"]\n",
    "\n",
    "# Train/test split\n",
    "X_train, X_test, y_train, y_test = train_test_split(\n",
    "    X, y, test_size=0.2, random_state=42\n",
    ")\n",
    "\n",
    "# Scale numeric features\n",
    "scaler = StandardScaler()\n",
    "X_train_scaled = scaler.fit_transform(X_train)\n",
    "X_test_scaled = scaler.transform(X_test)\n",
    "\n",
    "# Define models\n",
    "models = {\n",
    "    \"logistic_regression.pkl\": LogisticRegression(max_iter=1000),\n",
    "    \"decision_tree.pkl\": DecisionTreeClassifier(random_state=42),\n",
    "    \"random_forest.pkl\": RandomForestClassifier(random_state=42),\n",
    "    \"xgboost.pkl\": xgb.XGBClassifier(eval_metric=\"logloss\", random_state=42)\n",
    "}\n",
    "\n",
    "# Train & save all models in SAME format\n",
    "for filename, model in models.items():\n",
    "    model.fit(X_train_scaled, y_train)\n",
    "    to_save = {\n",
    "        \"model\": model,\n",
    "        \"scaler\": scaler,\n",
    "        \"features\": X.columns.tolist(),\n",
    "        \"encoders\": encoders\n",
    "    }\n",
    "    with open(filename, \"wb\") as f:\n",
    "        pickle.dump(to_save, f)\n",
    "\n",
    "print(\"✅ All models retrained & saved in consistent format.\")\n"
   ],
   "id": "4edd4edb4c7f3280",
   "outputs": [
    {
     "name": "stdout",
     "output_type": "stream",
     "text": [
      "✅ All models retrained & saved in consistent format.\n"
     ]
    }
   ],
   "execution_count": 1
  }
 ],
 "metadata": {
  "kernelspec": {
   "display_name": "Python 3",
   "language": "python",
   "name": "python3"
  },
  "language_info": {
   "codemirror_mode": {
    "name": "ipython",
    "version": 2
   },
   "file_extension": ".py",
   "mimetype": "text/x-python",
   "name": "python",
   "nbconvert_exporter": "python",
   "pygments_lexer": "ipython2",
   "version": "2.7.6"
  }
 },
 "nbformat": 4,
 "nbformat_minor": 5
}
